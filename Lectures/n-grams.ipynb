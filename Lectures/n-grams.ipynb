{
 "cells": [
  {
   "cell_type": "code",
   "execution_count": 1,
   "metadata": {
    "collapsed": true,
    "ExecuteTime": {
     "start_time": "2023-05-01T15:37:34.263055Z",
     "end_time": "2023-05-01T15:37:38.304849Z"
    }
   },
   "outputs": [
    {
     "name": "stderr",
     "output_type": "stream",
     "text": [
      "[nltk_data] Downloading package brown to /Users/daskala/nltk_data...\n",
      "[nltk_data]   Package brown is already up-to-date!\n"
     ]
    },
    {
     "data": {
      "text/plain": "True"
     },
     "execution_count": 1,
     "metadata": {},
     "output_type": "execute_result"
    }
   ],
   "source": [
    "import nltk.corpus\n",
    "import random as rnd\n",
    "from collections import defaultdict\n",
    "import tqdm\n",
    "nltk.download('brown')"
   ]
  },
  {
   "cell_type": "code",
   "execution_count": 2,
   "outputs": [
    {
     "data": {
      "text/plain": "57340"
     },
     "execution_count": 2,
     "metadata": {},
     "output_type": "execute_result"
    }
   ],
   "source": [
    "sentences = nltk.corpus.brown.sents()\n",
    "len(sentences)"
   ],
   "metadata": {
    "collapsed": false,
    "ExecuteTime": {
     "start_time": "2023-05-01T15:37:38.287230Z",
     "end_time": "2023-05-01T15:37:39.946271Z"
    }
   }
  },
  {
   "cell_type": "code",
   "execution_count": 3,
   "outputs": [
    {
     "data": {
      "text/plain": "['The',\n 'Fulton',\n 'County',\n 'Grand',\n 'Jury',\n 'said',\n 'Friday',\n 'an',\n 'investigation',\n 'of',\n \"Atlanta's\",\n 'recent',\n 'primary',\n 'election',\n 'produced',\n '``',\n 'no',\n 'evidence',\n \"''\",\n 'that',\n 'any',\n 'irregularities',\n 'took',\n 'place',\n '.']"
     },
     "execution_count": 3,
     "metadata": {},
     "output_type": "execute_result"
    }
   ],
   "source": [
    "sentences[0]"
   ],
   "metadata": {
    "collapsed": false,
    "ExecuteTime": {
     "start_time": "2023-05-01T15:37:39.946664Z",
     "end_time": "2023-05-01T15:37:39.950356Z"
    }
   }
  },
  {
   "cell_type": "code",
   "execution_count": 4,
   "outputs": [],
   "source": [
    "# Compute n grams\n",
    "def compute_n_grams(n):\n",
    "    n_grams = defaultdict(int)\n",
    "    for sentence in tqdm.tqdm(sentences):\n",
    "        words = [word for word in sentence]\n",
    "        for i in range(len(words) - n + 1):\n",
    "            n_grams[tuple(words[i:i + n])] += 1\n",
    "    return n_grams"
   ],
   "metadata": {
    "collapsed": false,
    "ExecuteTime": {
     "start_time": "2023-05-01T15:37:39.952492Z",
     "end_time": "2023-05-01T15:37:39.954782Z"
    }
   }
  },
  {
   "cell_type": "code",
   "execution_count": 5,
   "outputs": [
    {
     "name": "stderr",
     "output_type": "stream",
     "text": [
      "100%|██████████| 57340/57340 [00:02<00:00, 22810.99it/s]\n"
     ]
    },
    {
     "data": {
      "text/plain": "defaultdict(int,\n            {('The', 'Fulton'): 1,\n             ('Fulton', 'County'): 6,\n             ('County', 'Grand'): 1,\n             ('Grand', 'Jury'): 2,\n             ('Jury', 'said'): 1,\n             ('said', 'Friday'): 4,\n             ('Friday', 'an'): 1,\n             ('an', 'investigation'): 7,\n             ('investigation', 'of'): 15,\n             ('of', \"Atlanta's\"): 1,\n             (\"Atlanta's\", 'recent'): 1,\n             ('recent', 'primary'): 1,\n             ('primary', 'election'): 2,\n             ('election', 'produced'): 1,\n             ('produced', '``'): 1,\n             ('``', 'no'): 6,\n             ('no', 'evidence'): 14,\n             ('evidence', \"''\"): 3,\n             (\"''\", 'that'): 16,\n             ('that', 'any'): 31,\n             ('any', 'irregularities'): 1,\n             ('irregularities', 'took'): 1,\n             ('took', 'place'): 18,\n             ('place', '.'): 55,\n             ('The', 'jury'): 9,\n             ('jury', 'further'): 1,\n             ('further', 'said'): 2,\n             ('said', 'in'): 26,\n             ('in', 'term-end'): 1,\n             ('term-end', 'presentments'): 1,\n             ('presentments', 'that'): 1,\n             ('that', 'the'): 1368,\n             ('the', 'City'): 19,\n             ('City', 'Executive'): 1,\n             ('Executive', 'Committee'): 3,\n             ('Committee', ','): 19,\n             (',', 'which'): 660,\n             ('which', 'had'): 102,\n             ('had', 'over-all'): 1,\n             ('over-all', 'charge'): 1,\n             ('charge', 'of'): 29,\n             ('of', 'the'): 9625,\n             ('the', 'election'): 20,\n             ('election', ','): 8,\n             (',', '``'): 1093,\n             ('``', 'deserves'): 1,\n             ('deserves', 'the'): 2,\n             ('the', 'praise'): 2,\n             ('praise', 'and'): 2,\n             ('and', 'thanks'): 2,\n             ('thanks', 'of'): 1,\n             ('City', 'of'): 14,\n             ('of', 'Atlanta'): 7,\n             ('Atlanta', \"''\"): 2,\n             (\"''\", 'for'): 24,\n             ('for', 'the'): 1759,\n             ('the', 'manner'): 16,\n             ('manner', 'in'): 11,\n             ('in', 'which'): 378,\n             ('which', 'the'): 245,\n             ('election', 'was'): 3,\n             ('was', 'conducted'): 3,\n             ('conducted', '.'): 3,\n             ('The', 'September-October'): 1,\n             ('September-October', 'term'): 1,\n             ('term', 'jury'): 1,\n             ('jury', 'had'): 1,\n             ('had', 'been'): 760,\n             ('been', 'charged'): 1,\n             ('charged', 'by'): 3,\n             ('by', 'Fulton'): 1,\n             ('Fulton', 'Superior'): 2,\n             ('Superior', 'Court'): 12,\n             ('Court', 'Judge'): 1,\n             ('Judge', 'Durwood'): 1,\n             ('Durwood', 'Pye'): 1,\n             ('Pye', 'to'): 1,\n             ('to', 'investigate'): 9,\n             ('investigate', 'reports'): 1,\n             ('reports', 'of'): 13,\n             ('of', 'possible'): 4,\n             ('possible', '``'): 1,\n             ('``', 'irregularities'): 1,\n             ('irregularities', \"''\"): 1,\n             (\"''\", 'in'): 74,\n             ('in', 'the'): 5546,\n             ('the', 'hard-fought'): 2,\n             ('hard-fought', 'primary'): 1,\n             ('primary', 'which'): 1,\n             ('which', 'was'): 154,\n             ('was', 'won'): 2,\n             ('won', 'by'): 3,\n             ('by', 'Mayor-nominate'): 1,\n             ('Mayor-nominate', 'Ivan'): 1,\n             ('Ivan', 'Allen'): 3,\n             ('Allen', 'Jr.'): 2,\n             ('Jr.', '.'): 4,\n             ('``', 'Only'): 5,\n             ('Only', 'a'): 13,\n             ('a', 'relative'): 5,\n             ('relative', 'handful'): 1,\n             ('handful', 'of'): 11,\n             ('of', 'such'): 140,\n             ('such', 'reports'): 3,\n             ('reports', 'was'): 2,\n             ('was', 'received'): 6,\n             ('received', \"''\"): 1,\n             (\"''\", ','): 2032,\n             (',', 'the'): 3753,\n             ('the', 'jury'): 27,\n             ('jury', 'said'): 7,\n             ('said', ','): 503,\n             ('``', 'considering'): 1,\n             ('considering', 'the'): 17,\n             ('the', 'widespread'): 2,\n             ('widespread', 'interest'): 1,\n             ('interest', 'in'): 77,\n             ('the', 'number'): 112,\n             ('number', 'of'): 367,\n             ('of', 'voters'): 2,\n             ('voters', 'and'): 2,\n             ('and', 'the'): 2136,\n             ('the', 'size'): 44,\n             ('size', 'of'): 46,\n             ('of', 'this'): 547,\n             ('this', 'city'): 9,\n             ('city', \"''\"): 3,\n             (\"''\", '.'): 3331,\n             ('said', 'it'): 32,\n             ('it', 'did'): 45,\n             ('did', 'find'): 5,\n             ('find', 'that'): 14,\n             ('that', 'many'): 36,\n             ('many', 'of'): 112,\n             ('of', \"Georgia's\"): 4,\n             (\"Georgia's\", 'registration'): 1,\n             ('registration', 'and'): 1,\n             ('and', 'election'): 1,\n             ('election', 'laws'): 1,\n             ('laws', '``'): 1,\n             ('``', 'are'): 9,\n             ('are', 'outmoded'): 1,\n             ('outmoded', 'or'): 1,\n             ('or', 'inadequate'): 1,\n             ('inadequate', 'and'): 3,\n             ('and', 'often'): 23,\n             ('often', 'ambiguous'): 1,\n             ('ambiguous', \"''\"): 1,\n             ('It', 'recommended'): 1,\n             ('recommended', 'that'): 9,\n             ('that', 'Fulton'): 1,\n             ('Fulton', 'legislators'): 2,\n             ('legislators', 'act'): 1,\n             ('act', '``'): 1,\n             ('``', 'to'): 39,\n             ('to', 'have'): 329,\n             ('have', 'these'): 7,\n             ('these', 'laws'): 3,\n             ('laws', 'studied'): 1,\n             ('studied', 'and'): 5,\n             ('and', 'revised'): 1,\n             ('revised', 'to'): 1,\n             ('to', 'the'): 3426,\n             ('the', 'end'): 204,\n             ('end', 'of'): 193,\n             ('of', 'modernizing'): 1,\n             ('modernizing', 'and'): 2,\n             ('and', 'improving'): 2,\n             ('improving', 'them'): 1,\n             ('them', \"''\"): 52,\n             ('The', 'grand'): 2,\n             ('grand', 'jury'): 8,\n             ('jury', 'commented'): 1,\n             ('commented', 'on'): 3,\n             ('on', 'a'): 473,\n             ('a', 'number'): 117,\n             ('of', 'other'): 62,\n             ('other', 'topics'): 2,\n             ('topics', ','): 4,\n             (',', 'among'): 30,\n             ('among', 'them'): 37,\n             ('them', 'the'): 16,\n             ('the', 'Atlanta'): 10,\n             ('Atlanta', 'and'): 1,\n             ('and', 'Fulton'): 1,\n             ('County', 'purchasing'): 1,\n             ('purchasing', 'departments'): 2,\n             ('departments', 'which'): 1,\n             ('which', 'it'): 63,\n             ('it', 'said'): 8,\n             ('said', '``'): 14,\n             ('are', 'well'): 13,\n             ('well', 'operated'): 1,\n             ('operated', 'and'): 2,\n             ('and', 'follow'): 5,\n             ('follow', 'generally'): 1,\n             ('generally', 'accepted'): 1,\n             ('accepted', 'practices'): 1,\n             ('practices', 'which'): 2,\n             ('which', 'inure'): 1,\n             ('inure', 'to'): 1,\n             ('the', 'best'): 145,\n             ('best', 'interest'): 2,\n             ('interest', 'of'): 27,\n             ('of', 'both'): 38,\n             ('both', 'governments'): 2,\n             ('governments', \"''\"): 1,\n             ('Merger', 'proposed'): 1,\n             ('However', ','): 161,\n             ('it', 'believes'): 1,\n             ('believes', '``'): 1,\n             ('``', 'these'): 3,\n             ('these', 'two'): 29,\n             ('two', 'offices'): 1,\n             ('offices', 'should'): 1,\n             ('should', 'be'): 343,\n             ('be', 'combined'): 4,\n             ('combined', 'to'): 5,\n             ('to', 'achieve'): 35,\n             ('achieve', 'greater'): 1,\n             ('greater', 'efficiency'): 3,\n             ('efficiency', 'and'): 8,\n             ('and', 'reduce'): 4,\n             ('reduce', 'the'): 20,\n             ('the', 'cost'): 60,\n             ('cost', 'of'): 77,\n             ('of', 'administration'): 6,\n             ('administration', \"''\"): 1,\n             ('The', 'City'): 5,\n             ('City', 'Purchasing'): 1,\n             ('Purchasing', 'Department'): 1,\n             ('Department', ','): 10,\n             ('``', 'is'): 23,\n             ('is', 'lacking'): 6,\n             ('lacking', 'in'): 12,\n             ('in', 'experienced'): 1,\n             ('experienced', 'clerical'): 1,\n             ('clerical', 'personnel'): 1,\n             ('personnel', 'as'): 1,\n             ('as', 'a'): 896,\n             ('a', 'result'): 71,\n             ('result', 'of'): 77,\n             ('of', 'city'): 5,\n             ('city', 'personnel'): 1,\n             ('personnel', 'policies'): 2,\n             ('policies', \"''\"): 1,\n             ('It', 'urged'): 2,\n             ('urged', 'that'): 5,\n             ('the', 'city'): 119,\n             ('city', '``'): 1,\n             ('``', 'take'): 2,\n             ('take', 'steps'): 2,\n             ('steps', 'to'): 18,\n             ('to', 'remedy'): 2,\n             ('remedy', \"''\"): 1,\n             (\"''\", 'this'): 2,\n             ('this', 'problem'): 15,\n             ('problem', '.'): 47,\n             ('Implementation', 'of'): 3,\n             (\"Georgia's\", 'automobile'): 1,\n             ('automobile', 'title'): 1,\n             ('title', 'law'): 2,\n             ('law', 'was'): 10,\n             ('was', 'also'): 55,\n             ('also', 'recommended'): 2,\n             ('recommended', 'by'): 4,\n             ('by', 'the'): 1310,\n             ('the', 'outgoing'): 4,\n             ('outgoing', 'jury'): 1,\n             ('jury', '.'): 8,\n             ('the', 'next'): 184,\n             ('next', 'Legislature'): 2,\n             ('Legislature', '``'): 1,\n             ('``', 'provide'): 1,\n             ('provide', 'enabling'): 1,\n             ('enabling', 'funds'): 1,\n             ('funds', 'and'): 5,\n             ('and', 're-set'): 1,\n             ('re-set', 'the'): 1,\n             ('the', 'effective'): 11,\n             ('effective', 'date'): 2,\n             ('date', 'so'): 1,\n             ('so', 'that'): 233,\n             ('that', 'an'): 42,\n             ('an', 'orderly'): 5,\n             ('orderly', 'implementation'): 1,\n             ('implementation', 'of'): 5,\n             ('the', 'law'): 59,\n             ('law', 'may'): 1,\n             ('may', 'be'): 460,\n             ('be', 'effected'): 6,\n             ('effected', \"''\"): 1,\n             ('jury', 'took'): 1,\n             ('took', 'a'): 43,\n             ('a', 'swipe'): 2,\n             ('swipe', 'at'): 2,\n             ('at', 'the'): 1506,\n             ('the', 'State'): 75,\n             ('State', 'Welfare'): 2,\n             ('Welfare', \"Department's\"): 1,\n             (\"Department's\", 'handling'): 1,\n             ('handling', 'of'): 7,\n             ('of', 'federal'): 10,\n             ('federal', 'funds'): 5,\n             ('funds', 'granted'): 1,\n             ('granted', 'for'): 1,\n             ('for', 'child'): 1,\n             ('child', 'welfare'): 3,\n             ('welfare', 'services'): 2,\n             ('services', 'in'): 8,\n             ('in', 'foster'): 1,\n             ('foster', 'homes'): 1,\n             ('homes', '.'): 16,\n             ('``', 'This'): 48,\n             ('This', 'is'): 254,\n             ('is', 'one'): 102,\n             ('one', 'of'): 593,\n             ('the', 'major'): 55,\n             ('major', 'items'): 1,\n             ('items', 'in'): 7,\n             ('the', 'Fulton'): 5,\n             ('County', 'general'): 1,\n             ('general', 'assistance'): 2,\n             ('assistance', 'program'): 3,\n             ('program', \"''\"): 2,\n             (',', 'but'): 1856,\n             ('but', 'the'): 244,\n             ('Welfare', 'Department'): 1,\n             ('Department', '``'): 1,\n             ('``', 'has'): 5,\n             ('has', 'seen'): 12,\n             ('seen', 'fit'): 3,\n             ('fit', 'to'): 10,\n             ('to', 'distribute'): 2,\n             ('distribute', 'these'): 1,\n             ('these', 'funds'): 3,\n             ('funds', 'through'): 1,\n             ('through', 'the'): 356,\n             ('the', 'welfare'): 13,\n             ('welfare', 'departments'): 1,\n             ('departments', 'of'): 3,\n             ('of', 'all'): 245,\n             ('all', 'the'): 400,\n             ('the', 'counties'): 1,\n             ('counties', 'in'): 2,\n             ('the', 'state'): 179,\n             ('state', 'with'): 5,\n             ('with', 'the'): 1472,\n             ('the', 'exception'): 16,\n             ('exception', 'of'): 13,\n             ('of', 'Fulton'): 1,\n             ('County', ','): 19,\n             ('which', 'receives'): 2,\n             ('receives', 'none'): 1,\n             ('none', 'of'): 49,\n             ('this', 'money'): 3,\n             ('money', '.'): 31,\n             ('The', 'jurors'): 1,\n             ('jurors', 'said'): 2,\n             ('said', 'they'): 12,\n             ('they', 'realize'): 3,\n             ('realize', '``'): 1,\n             ('``', 'a'): 82,\n             ('a', 'proportionate'): 3,\n             ('proportionate', 'distribution'): 1,\n             ('distribution', 'of'): 23,\n             ('of', 'these'): 302,\n             ('funds', 'might'): 1,\n             ('might', 'disable'): 1,\n             ('disable', 'this'): 1,\n             ('this', 'program'): 11,\n             ('program', 'in'): 17,\n             ('in', 'our'): 115,\n             ('our', 'less'): 1,\n             ('less', 'populous'): 2,\n             ('populous', 'counties'): 1,\n             ('counties', \"''\"): 1,\n             ('Nevertheless', ','): 37,\n             ('``', 'we'): 11,\n             ('we', 'feel'): 5,\n             ('feel', 'that'): 21,\n             ('that', 'in'): 128,\n             ('the', 'future'): 91,\n             ('future', 'Fulton'): 1,\n             ('County', 'should'): 1,\n             ('should', 'receive'): 3,\n             ('receive', 'some'): 2,\n             ('some', 'portion'): 1,\n             ('portion', 'of'): 46,\n             ('these', 'available'): 1,\n             ('available', 'funds'): 1,\n             ('funds', \"''\"): 2,\n             ('the', 'jurors'): 3,\n             ('said', '.'): 428,\n             ('``', 'Failure'): 1,\n             ('Failure', 'to'): 2,\n             ('to', 'do'): 383,\n             ('do', 'this'): 27,\n             ('this', 'will'): 19,\n             ('will', 'continue'): 28,\n             ('continue', 'to'): 58,\n             ('to', 'place'): 22,\n             ('place', 'a'): 8,\n             ('a', 'disproportionate'): 2,\n             ('disproportionate', 'burden'): 1,\n             ('burden', \"''\"): 2,\n             (\"''\", 'on'): 32,\n             ('on', 'Fulton'): 1,\n             ('Fulton', 'taxpayers'): 1,\n             ('taxpayers', '.'): 3,\n             ('jury', 'also'): 1,\n             ('also', 'commented'): 1,\n             ('on', 'the'): 2297,\n             ('Fulton', \"ordinary's\"): 1,\n             (\"ordinary's\", 'court'): 1,\n             ('court', 'which'): 1,\n             ('which', 'has'): 66,\n             ('has', 'been'): 567,\n             ('been', 'under'): 8,\n             ('under', 'fire'): 6,\n             ('fire', 'for'): 3,\n             ('for', 'its'): 58,\n             ('its', 'practices'): 1,\n             ('practices', 'in'): 5,\n             ('the', 'appointment'): 4,\n             ('appointment', 'of'): 8,\n             ('of', 'appraisers'): 1,\n             ('appraisers', ','): 1,\n             (',', 'guardians'): 1,\n             ('guardians', 'and'): 1,\n             ('and', 'administrators'): 2,\n             ('administrators', 'and'): 1,\n             ('the', 'awarding'): 1,\n             ('awarding', 'of'): 1,\n             ('of', 'fees'): 2,\n             ('fees', 'and'): 1,\n             ('and', 'compensation'): 2,\n             ('compensation', '.'): 3,\n             ('Wards', 'protected'): 1,\n             ('it', 'found'): 3,\n             ('found', 'the'): 36,\n             ('the', 'court'): 32,\n             ('court', '``'): 2,\n             ('has', 'incorporated'): 1,\n             ('incorporated', 'into'): 3,\n             ('into', 'its'): 13,\n             ('its', 'operating'): 4,\n             ('operating', 'procedures'): 1,\n             ('procedures', 'the'): 1,\n             ('the', 'recommendations'): 5,\n             ('recommendations', \"''\"): 1,\n             (\"''\", 'of'): 86,\n             ('of', 'two'): 66,\n             ('two', 'previous'): 4,\n             ('previous', 'grand'): 1,\n             ('grand', 'juries'): 1,\n             ('juries', ','): 1,\n             ('Atlanta', 'Bar'): 1,\n             ('Bar', 'Association'): 1,\n             ('Association', 'and'): 1,\n             ('and', 'an'): 87,\n             ('an', 'interim'): 2,\n             ('interim', 'citizens'): 1,\n             ('citizens', 'committee'): 2,\n             ('committee', '.'): 9,\n             ('``', 'These'): 3,\n             ('These', 'actions'): 1,\n             ('actions', 'should'): 1,\n             ('should', 'serve'): 2,\n             ('serve', 'to'): 11,\n             ('to', 'protect'): 25,\n             ('protect', 'in'): 1,\n             ('in', 'fact'): 97,\n             ('fact', 'and'): 5,\n             ('and', 'in'): 312,\n             ('in', 'effect'): 25,\n             ('effect', 'the'): 5,\n             ('the', \"court's\"): 1,\n             (\"court's\", 'wards'): 1,\n             ('wards', 'from'): 1,\n             ('from', 'undue'): 2,\n             ('undue', 'costs'): 1,\n             ('costs', 'and'): 7,\n             ('and', 'its'): 107,\n             ('its', 'appointed'): 1,\n             ('appointed', 'and'): 1,\n             ('and', 'elected'): 1,\n             ('elected', 'servants'): 1,\n             ('servants', 'from'): 1,\n             ('from', 'unmeritorious'): 1,\n             ('unmeritorious', 'criticisms'): 1,\n             ('criticisms', \"''\"): 1,\n             ('Regarding', \"Atlanta's\"): 1,\n             (\"Atlanta's\", 'new'): 1,\n             ('new', 'multi-million-dollar'): 1,\n             ('multi-million-dollar', 'airport'): 1,\n             ('airport', ','): 4,\n             ('jury', 'recommended'): 2,\n             ('recommended', '``'): 2,\n             ('``', 'that'): 31,\n             ('that', 'when'): 36,\n             ('when', 'the'): 310,\n             ('the', 'new'): 224,\n             ('new', 'management'): 3,\n             ('management', 'takes'): 1,\n             ('takes', 'charge'): 1,\n             ('charge', 'Jan.'): 1,\n             ('Jan.', '1'): 4,\n             ('1', 'the'): 3,\n             ('the', 'airport'): 7,\n             ('airport', 'be'): 1,\n             ('be', 'operated'): 3,\n             ('operated', 'in'): 4,\n             ('in', 'a'): 1316,\n             ('a', 'manner'): 18,\n             ('manner', 'that'): 10,\n             ('that', 'will'): 52,\n             ('will', 'eliminate'): 1,\n             ('eliminate', 'political'): 1,\n             ('political', 'influences'): 1,\n             ('influences', \"''\"): 1,\n             ('jury', 'did'): 1,\n             ('did', 'not'): 440,\n             ('not', 'elaborate'): 1,\n             ('elaborate', ','): 3,\n             ('but', 'it'): 146,\n             ('it', 'added'): 3,\n             ('added', 'that'): 16,\n             ('that', '``'): 107,\n             ('``', 'there'): 11,\n             ('there', 'should'): 14,\n             ('be', 'periodic'): 1,\n             ('periodic', 'surveillance'): 1,\n             ('surveillance', 'of'): 1,\n             ('the', 'pricing'): 1,\n             ('pricing', 'practices'): 1,\n             ('practices', 'of'): 7,\n             ('the', 'concessionaires'): 3,\n             ('concessionaires', 'for'): 1,\n             ('the', 'purpose'): 29,\n             ('purpose', 'of'): 50,\n             ('of', 'keeping'): 8,\n             ('keeping', 'the'): 12,\n             ('the', 'prices'): 4,\n             ('prices', 'reasonable'): 1,\n             ('reasonable', \"''\"): 1,\n             ('Ask', 'jail'): 1,\n             ('jail', 'deputies'): 1,\n             ('On', 'other'): 1,\n             ('other', 'matters'): 2,\n             ('matters', ','): 7,\n             ('that', ':'): 6,\n             (':', '('): 42,\n             ('(', '1'): 77,\n             ('1', ')'): 105,\n             ('Four', 'additional'): 1,\n             ('additional', 'deputies'): 1,\n             ('deputies', 'be'): 1,\n             ('be', 'employed'): 9,\n             ('employed', 'at'): 3,\n             ('County', 'Jail'): 2,\n             ('Jail', 'and'): 1,\n             ('and', '``'): 130,\n             ('a', 'doctor'): 10,\n             ('doctor', ','): 17,\n             (',', 'medical'): 7,\n             ('medical', 'intern'): 1,\n             ('intern', 'or'): 1,\n             ('or', 'extern'): 1,\n             ('extern', 'be'): 1,\n             ('employed', 'for'): 5,\n             ('for', 'night'): 3,\n             ('night', 'and'): 18,\n             ('and', 'weekend'): 1,\n             ('weekend', 'duty'): 1,\n             ('duty', 'at'): 3,\n             ('the', 'jail'): 2,\n             ('jail', \"''\"): 1,\n             ('(', '2'): 70,\n             ('2', ')'): 97,\n             ('legislators', '``'): 1,\n             ('``', 'work'): 1,\n             ('work', 'with'): 18,\n             ('with', 'city'): 1,\n             ('city', 'officials'): 1,\n             ('officials', 'to'): 6,\n             ('to', 'pass'): 30,\n             ('pass', 'enabling'): 1,\n             ('enabling', 'legislation'): 2,\n             ('legislation', 'that'): 4,\n             ('will', 'permit'): 4,\n             ('permit', 'the'): 12,\n             ('the', 'establishment'): 26,\n             ('establishment', 'of'): 34,\n             ('of', 'a'): 1461,\n             ('a', 'fair'): 20,\n             ('fair', 'and'): 6,\n             ('and', 'equitable'): 4,\n             ('equitable', \"''\"): 1,\n             (\"''\", 'pension'): 1,\n             ('pension', 'plan'): 5,\n             ('plan', 'for'): 14,\n             ('for', 'city'): 1,\n             ('city', 'employes'): 4,\n             ('employes', '.'): 4,\n             ('jury', 'praised'): 1,\n             ('praised', 'the'): 2,\n             ('the', 'administration'): 29,\n             ('administration', 'and'): 7,\n             ('and', 'operation'): 8,\n             ('operation', 'of'): 24,\n             ('Atlanta', 'Police'): 1,\n             ('Police', 'Department'): 4,\n             ('Fulton', 'Tax'): 1,\n             ('Tax', \"Commissioner's\"): 1,\n             (\"Commissioner's\", 'Office'): 1,\n             ('Office', ','): 7,\n             ('the', 'Bellwood'): 1,\n             ('Bellwood', 'and'): 1,\n             ('and', 'Alpharetta'): 1,\n             ('Alpharetta', 'prison'): 1,\n             ('prison', 'farms'): 1,\n             ('farms', ','): 2,\n             (',', 'Grady'): 1,\n             ('Grady', 'Hospital'): 3,\n             ('Hospital', 'and'): 1,\n             ('Fulton', 'Health'): 1,\n             ('Health', 'Department'): 1,\n             ('Department', '.'): 12,\n             ('Mayor', 'William'): 1,\n             ('William', 'B.'): 1,\n             ('B.', 'Hartsfield'): 1,\n             ('Hartsfield', 'filed'): 1,\n             ('filed', 'suit'): 1,\n             ('suit', 'for'): 3,\n             ('for', 'divorce'): 4,\n             ('divorce', 'from'): 1,\n             ('from', 'his'): 137,\n             ('his', 'wife'): 93,\n             ('wife', ','): 56,\n             (',', 'Pearl'): 1,\n             ('Pearl', 'Williams'): 1,\n             ('Williams', 'Hartsfield'): 1,\n             ('Hartsfield', ','): 1,\n             (',', 'in'): 1064,\n             ('in', 'Fulton'): 1,\n             ('Court', 'Friday'): 2,\n             ('Friday', '.'): 10,\n             ('His', 'petition'): 1,\n             ('petition', 'charged'): 1,\n             ('charged', 'mental'): 1,\n             ('mental', 'cruelty'): 1,\n             ('cruelty', '.'): 3,\n             ('The', 'couple'): 2,\n             ('couple', 'was'): 1,\n             ('was', 'married'): 8,\n             ('married', 'Aug.'): 1,\n             ('Aug.', '2'): 1,\n             ('2', ','): 123,\n             (',', '1913'): 3,\n             ('1913', '.'): 3,\n             ('They', 'have'): 20,\n             ('have', 'a'): 252,\n             ('a', 'son'): 13,\n             ('son', ','): 30,\n             (',', 'William'): 21,\n             ('William', 'Berry'): 1,\n             ('Berry', 'Jr.'): 1,\n             ('Jr.', ','): 52,\n             (',', 'and'): 6288,\n             ('and', 'a'): 610,\n             ('a', 'daughter'): 7,\n             ('daughter', ','): 27,\n             (',', 'Mrs.'): 121,\n             ('Mrs.', 'J.'): 4,\n             ('J.', 'M.'): 2,\n             ('M.', 'Cheshire'): 1,\n             ('Cheshire', 'of'): 1,\n             ('of', 'Griffin'): 1,\n             ('Griffin', '.'): 2,\n             ('Attorneys', 'for'): 2,\n             ('the', 'mayor'): 4,\n             ('mayor', 'said'): 1,\n             ('said', 'that'): 106,\n             ('an', 'amicable'): 1,\n             ('amicable', 'property'): 1,\n             ('property', 'settlement'): 1,\n             ('settlement', 'has'): 1,\n             ('been', 'agreed'): 1,\n             ('agreed', 'upon'): 5,\n             ('upon', '.'): 4,\n             ('The', 'petition'): 2,\n             ('petition', 'listed'): 1,\n             ('listed', 'the'): 5,\n             ('the', \"mayor's\"): 4,\n             (\"mayor's\", 'occupation'): 1,\n             ('occupation', 'as'): 1,\n             ('as', '``'): 118,\n             ('``', 'attorney'): 1,\n             ('attorney', \"''\"): 1,\n             (\"''\", 'and'): 165,\n             ('and', 'his'): 293,\n             ('his', 'age'): 9,\n             ('age', 'as'): 5,\n             ('as', '71'): 1,\n             ('71', '.'): 2,\n             ('It', 'listed'): 1,\n             ('listed', 'his'): 1,\n             ('his', \"wife's\"): 11,\n             (\"wife's\", 'age'): 1,\n             ('as', '74'): 1,\n             ('74', 'and'): 2,\n             ('and', 'place'): 8,\n             ('place', 'of'): 39,\n             ('of', 'birth'): 7,\n             ('birth', 'as'): 1,\n             ('as', 'Opelika'): 1,\n             ('Opelika', ','): 1,\n             (',', 'Ala.'): 7,\n             ('Ala.', '.'): 4,\n             ('petition', 'said'): 1,\n             ('the', 'couple'): 9,\n             ('couple', 'has'): 1,\n             ('has', 'not'): 77,\n             ('not', 'lived'): 1,\n             ('lived', 'together'): 1,\n             ('together', 'as'): 6,\n             ('as', 'man'): 3,\n             ('man', 'and'): 36,\n             ('and', 'wife'): 17,\n             ('wife', 'for'): 4,\n             ('for', 'more'): 44,\n             ('more', 'than'): 387,\n             ('than', 'a'): 137,\n             ('a', 'year'): 97,\n             ('year', '.'): 121,\n             ('The', 'Hartsfield'): 1,\n             ('Hartsfield', 'home'): 1,\n             ('home', 'is'): 3,\n             ('is', 'at'): 50,\n             ('at', '637'): 1,\n             ('637', 'E.'): 1,\n             ('E.', 'Pelham'): 1,\n             ('Pelham', 'Rd.'): 1,\n             ('Rd.', 'Aj'): 1,\n             ('Aj', '.'): 115,\n             ('Henry', 'L.'): 3,\n             ('L.', 'Bowden'): 2,\n             ('Bowden', 'was'): 1,\n             ('was', 'listed'): 1,\n             ('listed', 'on'): 2,\n             ('the', 'petition'): 3,\n             ('petition', 'as'): 1,\n             ('as', 'the'): 676,\n             (\"mayor's\", 'attorney'): 1,\n             ('attorney', '.'): 2,\n             ('Hartsfield', 'has'): 1,\n             ('been', 'mayor'): 1,\n             ('mayor', 'of'): 3,\n             ('Atlanta', ','): 7,\n             (',', 'with'): 628,\n             ('with', 'exception'): 1,\n             ('of', 'one'): 97,\n             ('one', 'brief'): 1,\n             ('brief', 'interlude'): 1,\n             ('interlude', ','): 2,\n             (',', 'since'): 116,\n             ('since', '1937'): 1,\n             ('1937', '.'): 5,\n             ('His', 'political'): 2,\n             ('political', 'career'): 3,\n             ('career', 'goes'): 1,\n             ('goes', 'back'): 6,\n             ('back', 'to'): 202,\n             ('to', 'his'): 314,\n             ('his', 'election'): 3,\n             ('election', 'to'): 5,\n             ('to', 'city'): 1,\n             ('city', 'council'): 5,\n             ('council', 'in'): 1,\n             ('in', '1923'): 2,\n             ('1923', '.'): 3,\n             ('The', \"mayor's\"): 1,\n             (\"mayor's\", 'present'): 1,\n             ('present', 'term'): 1,\n             ('term', 'of'): 7,\n             ('of', 'office'): 4,\n             ('office', 'expires'): 1,\n             ('expires', 'Jan.'): 1,\n             ('1', '.'): 97,\n             ('He', 'will'): 21,\n             ('will', 'be'): 593,\n             ('be', 'succeeded'): 2,\n             ('succeeded', 'by'): 6,\n             ('by', 'Ivan'): 1,\n             (',', 'who'): 562,\n             ('who', 'became'): 8,\n             ('became', 'a'): 44,\n             ('a', 'candidate'): 13,\n             ('candidate', 'in'): 3,\n             ('the', 'Sept.'): 2,\n             ('Sept.', '13'): 1,\n             ('13', 'primary'): 1,\n             ('primary', 'after'): 1,\n             ('after', 'Mayor'): 1,\n             ('Mayor', 'Hartsfield'): 1,\n             ('Hartsfield', 'announced'): 1,\n             ('announced', 'that'): 21,\n             ('that', 'he'): 559,\n             ('he', 'would'): 229,\n             ('would', 'not'): 169,\n             ('not', 'run'): 3,\n             ('run', 'for'): 5,\n             ('for', 'reelection'): 1,\n             ('reelection', '.'): 1,\n             ('Georgia', 'Republicans'): 1,\n             ('Republicans', 'are'): 2,\n             ('are', 'getting'): 9,\n             ('getting', 'strong'): 1,\n             ('strong', 'encouragement'): 1,\n             ('encouragement', 'to'): 4,\n             ('to', 'enter'): 32,\n             ('enter', 'a'): 3,\n             ('the', '1962'): 2,\n             ('1962', \"governor's\"): 1,\n             (\"governor's\", 'race'): 4,\n             ('race', ','): 16,\n             (',', 'a'): 1294,\n             ('a', 'top'): 10,\n             ('top', 'official'): 2,\n             ('official', 'said'): 2,\n             ('said', 'Wednesday'): 1,\n             ('Wednesday', '.'): 6,\n             ('Robert', 'Snodgrass'): 1,\n             ('Snodgrass', ','): 2,\n             (',', 'state'): 16,\n             ('state', 'GOP'): 1,\n             ('GOP', 'chairman'): 1,\n             ('chairman', ','): 8,\n             (',', 'said'): 175,\n             ('said', 'a'): 17,\n             ('a', 'meeting'): 17,\n             ('meeting', 'held'): 1,\n             ('held', 'Tuesday'): 1,\n             ('Tuesday', 'night'): 6,\n             ('night', 'in'): 22,\n             ('in', 'Blue'): 1,\n             ('Blue', 'Ridge'): 4,\n             ('Ridge', 'brought'): 1,\n             ('brought', 'enthusiastic'): 1,\n             ('enthusiastic', 'responses'): 1,\n             ('responses', 'from'): 3,\n             ('from', 'the'): 1351,\n             ('the', 'audience'): 53,\n             ('audience', '.'): 16,\n             ('State', 'Party'): 2,\n             ('Party', 'Chairman'): 2,\n             ('Chairman', 'James'): 2,\n             ('James', 'W.'): 3,\n             ('W.', 'Dorsey'): 1,\n             ('Dorsey', 'added'): 1,\n             ('that', 'enthusiasm'): 1,\n             ('enthusiasm', 'was'): 1,\n             ('was', 'picking'): 3,\n             ('picking', 'up'): 6,\n             ('up', 'for'): 43,\n             ('for', 'a'): 734,\n             ('a', 'state'): 39,\n             ('state', 'rally'): 1,\n             ('rally', 'to'): 2,\n             ('to', 'be'): 1697,\n             ('be', 'held'): 20,\n             ('held', 'Sept.'): 1,\n             ('Sept.', '8'): 1,\n             ('8', 'in'): 1,\n             ('in', 'Savannah'): 4,\n             ('Savannah', 'at'): 1,\n             ('at', 'which'): 39,\n             ('which', 'newly'): 1,\n             ('newly', 'elected'): 1,\n             ('elected', 'Texas'): 1,\n             ('Texas', 'Sen.'): 1,\n             ('Sen.', 'John'): 2,\n             ('John', 'Tower'): 1,\n             ('Tower', 'will'): 1,\n             ('be', 'the'): 183,\n             ('the', 'featured'): 2,\n             ('featured', 'speaker'): 1,\n             ('speaker', '.'): 2,\n             ('In', 'the'): 430,\n             ('the', 'Blue'): 12,\n             ('Ridge', 'meeting'): 1,\n             ('meeting', ','): 12,\n             ('audience', 'was'): 6,\n             ('was', 'warned'): 1,\n             ('warned', 'that'): 5,\n             ('that', 'entering'): 1,\n             ('entering', 'a'): 4,\n             ('candidate', 'for'): 10,\n             ('for', 'governor'): 6,\n             ('governor', 'would'): 1,\n             ('would', 'force'): 4,\n             ('force', 'it'): 2,\n             ('it', 'to'): 118,\n             ('to', 'take'): 209,\n             ('take', 'petitions'): 1,\n             ('petitions', 'out'): 1,\n             ('out', 'into'): 35,\n             ('into', 'voting'): 1,\n             ('voting', 'precincts'): 1,\n             ('precincts', 'to'): 1,\n             ('to', 'obtain'): 33,\n             ('obtain', 'the'): 5,\n             ('the', 'signatures'): 3,\n             ('signatures', 'of'): 2,\n             ('of', 'registered'): 3,\n             ('registered', 'voters'): 1,\n             ('voters', '.'): 4,\n             ('Despite', 'the'): 15,\n             ('the', 'warning'): 10,\n             ('warning', ','): 5,\n             (',', 'there'): 330,\n             ('there', 'was'): 322,\n             ('was', 'a'): 776,\n             ('a', 'unanimous'): 3,\n             ('unanimous', 'vote'): 1,\n             ('vote', 'to'): 3,\n             ('candidate', ','): 3,\n             (',', 'according'): 53,\n             ('according', 'to'): 108,\n             ('to', 'Republicans'): 1,\n             ('Republicans', 'who'): 1,\n             ('who', 'attended'): 4,\n             ('attended', '.'): 4,\n             ('When', 'the'): 105,\n             ('the', 'crowd'): 20,\n             ('crowd', 'was'): 2,\n             ('was', 'asked'): 14,\n             ('asked', 'whether'): 5,\n             ('whether', 'it'): 18,\n             ('it', 'wanted'): 1,\n             ('wanted', 'to'): 116,\n             ('to', 'wait'): 23,\n             ('wait', 'one'): 1,\n             ('one', 'more'): 19,\n             ('more', 'term'): 1,\n             ('term', 'to'): 3,\n             ('to', 'make'): 350,\n             ('make', 'the'): 89,\n             ('the', 'race'): 16,\n             (',', 'it'): 775,\n             ('it', 'voted'): 1,\n             ('voted', 'no'): 1,\n             ('no', '--'): 2,\n             ('--', 'and'): 286,\n             ('and', 'there'): 106,\n             ('there', 'were'): 150,\n             ('were', 'no'): 31,\n             ('no', 'dissents'): 1,\n             ('dissents', '.'): 1,\n             ('The', 'largest'): 2,\n             ('largest', 'hurdle'): 1,\n             ('hurdle', 'the'): 2,\n             ('the', 'Republicans'): 9,\n             ('Republicans', 'would'): 1,\n             ('would', 'have'): 316,\n             ('have', 'to'): 274,\n             ('to', 'face'): 30,\n             ('face', 'is'): 2,\n             ('is', 'a'): 864,\n             ('state', 'law'): 8,\n             ('law', 'which'): 4,\n             ('which', 'says'): 4,\n             ('says', 'that'): 24,\n             ('that', 'before'): 4,\n             ('before', 'making'): 3,\n             ('making', 'a'): 30,\n             ('a', 'first'): 8,\n             ('first', 'race'): 1,\n             (',', 'one'): 236,\n             ('two', 'alternative'): 1,\n             ('alternative', 'courses'): 1,\n             ('courses', 'must'): 1,\n             ('must', 'be'): 372,\n             ('be', 'taken'): 57,\n             ('taken', ':'): 1,\n             (':', '1'): 42,\n             ('Five', 'per'): 1,\n             ('per', 'cent'): 146,\n             ('cent', 'of'): 58,\n             ('the', 'voters'): 5,\n             ('voters', 'in'): 2,\n             ('in', 'each'): 50,\n             ('each', 'county'): 1,\n             ('county', 'must'): 1,\n             ('must', 'sign'): 1,\n             ('sign', 'petitions'): 1,\n             ('petitions', 'requesting'): 1,\n             ('requesting', 'that'): 2,\n             ('Republicans', 'be'): 1,\n             ...})"
     },
     "execution_count": 5,
     "metadata": {},
     "output_type": "execute_result"
    }
   ],
   "source": [
    "compute_n_grams(2)"
   ],
   "metadata": {
    "collapsed": false,
    "ExecuteTime": {
     "start_time": "2023-05-01T15:37:39.958086Z",
     "end_time": "2023-05-01T15:37:42.595509Z"
    }
   }
  },
  {
   "cell_type": "code",
   "execution_count": 6,
   "outputs": [],
   "source": [
    "def generate_sentence(n_grams, n_words=10):\n",
    "    sentence = []\n",
    "    n = len(list(n_grams.keys())[0])  # Determine the order of n-grams\n",
    "\n",
    "    for i in range(n_words):\n",
    "        if i == 0:\n",
    "            # starting_ngram = rnd.choices(list(n_grams.keys()), weights=n_grams.values())[0]\n",
    "            # sentence.extend(list(starting_ngram))\n",
    "            sentence.extend(['The', 'Fulton', 'County'])\n",
    "        else:\n",
    "            last_n_minus_1_words = tuple(sentence[-(n-1):])  # Consider the last (n-1) words\n",
    "            next_word_candidates, next_word_weights = \\\n",
    "                zip(*[(key[-1], value) for key, value in n_grams.items() if key[:-1] == last_n_minus_1_words])\n",
    "\n",
    "            if next_word_candidates:\n",
    "                # TODO (exercise): Implement sampling from the distribution\n",
    "                next_word = next_word_candidates[next_word_weights.index(max(next_word_weights))]\n",
    "                sentence.append(next_word)\n",
    "            else:\n",
    "                break  # If no matching n-grams, stop generating the sentence\n",
    "\n",
    "    return ' '.join(sentence)"
   ],
   "metadata": {
    "collapsed": false,
    "ExecuteTime": {
     "start_time": "2023-05-01T15:37:42.601120Z",
     "end_time": "2023-05-01T15:37:42.604104Z"
    }
   }
  },
  {
   "cell_type": "code",
   "execution_count": 7,
   "outputs": [
    {
     "name": "stderr",
     "output_type": "stream",
     "text": [
      "100%|██████████| 57340/57340 [00:02<00:00, 24028.87it/s]\n"
     ]
    }
   ],
   "source": [
    "order = 3\n",
    "n_grams = compute_n_grams(order)"
   ],
   "metadata": {
    "collapsed": false,
    "ExecuteTime": {
     "start_time": "2023-05-01T15:37:42.604866Z",
     "end_time": "2023-05-01T15:37:44.995171Z"
    }
   }
  },
  {
   "cell_type": "code",
   "execution_count": 8,
   "outputs": [
    {
     "name": "stdout",
     "output_type": "stream",
     "text": [
      "The Fulton County Grand Jury said Friday an investigation of the United\n"
     ]
    }
   ],
   "source": [
    "def example_usage():\n",
    "    generated_sentence = generate_sentence(n_grams)\n",
    "    print(generated_sentence)\n",
    "\n",
    "example_usage()"
   ],
   "metadata": {
    "collapsed": false,
    "ExecuteTime": {
     "start_time": "2023-05-01T15:37:45.057065Z",
     "end_time": "2023-05-01T15:37:45.696235Z"
    }
   }
  }
 ],
 "metadata": {
  "kernelspec": {
   "display_name": "Python 3",
   "language": "python",
   "name": "python3"
  },
  "language_info": {
   "codemirror_mode": {
    "name": "ipython",
    "version": 2
   },
   "file_extension": ".py",
   "mimetype": "text/x-python",
   "name": "python",
   "nbconvert_exporter": "python",
   "pygments_lexer": "ipython2",
   "version": "2.7.6"
  }
 },
 "nbformat": 4,
 "nbformat_minor": 0
}
